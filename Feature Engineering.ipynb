{
 "cells": [
  {
   "cell_type": "code",
   "execution_count": 4,
   "id": "6cb5884a",
   "metadata": {},
   "outputs": [
    {
     "name": "stdout",
     "output_type": "stream",
     "text": [
      "Original DataFrame:\n",
      "   preg  plas  pres  skin  test  mass   pedi  age  class\n",
      "0     6   148    72    35     0  33.6  0.627   50      1\n",
      "1     1    85    66    29     0  26.6  0.351   31      0\n",
      "2     8   183    64     0     0  23.3  0.672   32      1\n",
      "3     1    89    66    23    94  28.1  0.167   21      0\n",
      "4     0   137    40    35   168  43.1  2.288   33      1\n",
      "Feature scores:\n",
      "{'preg': 111.51969063588255, 'plas': 1411.887040644141, 'pres': 17.605373215320718, 'skin': 53.10803983632434, 'test': 2175.5652729220137, 'mass': 127.66934333103643, 'pedi': 5.39268154697145, 'age': 181.30368904430023}\n",
      "Transformed Feature Shape: (768, 5)\n"
     ]
    }
   ],
   "source": [
    "import pandas as pd\n",
    "import numpy as np\n",
    "from sklearn.feature_selection import SelectKBest, chi2\n",
    "\n",
    "# Define column names\n",
    "column_names = ['preg', 'plas', 'pres', 'skin', 'test', 'mass', 'pedi', 'age', 'class']\n",
    "feature_names = ['preg', 'plas', 'pres', 'skin', 'test', 'mass', 'pedi', 'age']\n",
    "\n",
    "# Load data\n",
    "df = pd.read_csv(r'C:\\Users\\bhanu\\Downloads\\pima-indians-diabetes.data.csv', names=column_names)\n",
    "print(\"Original DataFrame:\")\n",
    "print(df.head())\n",
    "\n",
    "# Convert dataframe to numpy array\n",
    "X = df.iloc[:, 0:8]  # Features\n",
    "Y = df.iloc[:, 8]    # Target variable\n",
    "\n",
    "# Feature selection\n",
    "selector = SelectKBest(score_func=chi2, k=5)\n",
    "fit = selector.fit(X, Y)\n",
    "\n",
    "# Summarize scores\n",
    "np.set_printoptions(precision=3)\n",
    "print(\"Feature scores:\")\n",
    "print(dict(zip(feature_names, fit.scores_)))\n",
    "\n",
    "# Transform dataset\n",
    "selected_features = fit.transform(X)\n",
    "print(\"Transformed Feature Shape:\", selected_features.shape)\n",
    "\n"
   ]
  },
  {
   "cell_type": "code",
   "execution_count": 6,
   "id": "c270d8f8",
   "metadata": {},
   "outputs": [
    {
     "name": "stdout",
     "output_type": "stream",
     "text": [
      "Num Features: 3\n",
      "Selected Features:  [ True False False False False  True  True False]\n",
      "Feature Ranking:  [1 2 4 6 5 1 1 3]\n"
     ]
    }
   ],
   "source": [
    "import pandas as pd\n",
    "from sklearn.feature_selection import RFE\n",
    "from sklearn.linear_model import LogisticRegression\n",
    "\n",
    "# Define column names\n",
    "column_names = ['preg', 'plas', 'pres', 'skin', 'test', 'mass', 'pedi', 'age', 'class']\n",
    "\n",
    "# Load data\n",
    "df = pd.read_csv(r'C:\\Users\\bhanu\\Downloads\\pima-indians-diabetes.data.csv', names=column_names)\n",
    "\n",
    "# Convert dataframe to numpy array\n",
    "X = df.iloc[:, 0:8]  # Features\n",
    "Y = df.iloc[:, 8]    # Target variable\n",
    "\n",
    "# Feature extraction\n",
    "model = LogisticRegression(max_iter=400)\n",
    "\n",
    "# Initialize RFE with the model and the number of features to select\n",
    "rfe = RFE(estimator=model, n_features_to_select=3)\n",
    "\n",
    "# Fit the RFE model\n",
    "fit = rfe.fit(X, Y)\n",
    "\n",
    "# Print selected features\n",
    "print(\"Num Features: %d\" % fit.n_features_)\n",
    "print(\"Selected Features: \", fit.support_)\n",
    "print(\"Feature Ranking: \", fit.ranking_)"
   ]
  },
  {
   "cell_type": "code",
   "execution_count": 7,
   "id": "d32f1232",
   "metadata": {},
   "outputs": [
    {
     "data": {
      "text/plain": [
       "3"
      ]
     },
     "execution_count": 7,
     "metadata": {},
     "output_type": "execute_result"
    }
   ],
   "source": [
    "fit.n_features_\n"
   ]
  },
  {
   "cell_type": "code",
   "execution_count": 8,
   "id": "bb08c5ab",
   "metadata": {},
   "outputs": [
    {
     "data": {
      "text/plain": [
       "array([ True, False, False, False, False,  True,  True, False])"
      ]
     },
     "execution_count": 8,
     "metadata": {},
     "output_type": "execute_result"
    }
   ],
   "source": [
    "fit.support_"
   ]
  },
  {
   "cell_type": "code",
   "execution_count": 9,
   "id": "4c75ec71",
   "metadata": {},
   "outputs": [
    {
     "data": {
      "text/plain": [
       "array([1, 2, 4, 6, 5, 1, 1, 3])"
      ]
     },
     "execution_count": 9,
     "metadata": {},
     "output_type": "execute_result"
    }
   ],
   "source": [
    "fit.ranking_"
   ]
  },
  {
   "cell_type": "code",
   "execution_count": 10,
   "id": "8e0f9440",
   "metadata": {},
   "outputs": [
    {
     "name": "stdout",
     "output_type": "stream",
     "text": [
      "Feature Importances: [0.058 0.318 0.1   0.026 0.042 0.215 0.132 0.108]\n"
     ]
    }
   ],
   "source": [
    "import pandas as pd\n",
    "from sklearn.tree import DecisionTreeClassifier\n",
    "\n",
    "# Define column names\n",
    "column_names = ['preg', 'plas', 'pres', 'skin', 'test', 'mass', 'pedi', 'age', 'class']\n",
    "\n",
    "# Load data\n",
    "df = pd.read_csv(r'C:\\Users\\bhanu\\Downloads\\pima-indians-diabetes.data.csv', names=column_names)\n",
    "\n",
    "# Convert dataframe to numpy array\n",
    "X = df.iloc[:, 0:8]  # Features\n",
    "Y = df.iloc[:, 8]    # Target variable\n",
    "\n",
    "# Feature extraction using DecisionTreeClassifier\n",
    "model = DecisionTreeClassifier()\n",
    "model.fit(X, Y)\n",
    "\n",
    "# Print feature importances\n",
    "print(\"Feature Importances:\", model.feature_importances_)"
   ]
  },
  {
   "cell_type": "code",
   "execution_count": null,
   "id": "eb22fbef",
   "metadata": {},
   "outputs": [],
   "source": []
  }
 ],
 "metadata": {
  "kernelspec": {
   "display_name": "Python 3 (ipykernel)",
   "language": "python",
   "name": "python3"
  },
  "language_info": {
   "codemirror_mode": {
    "name": "ipython",
    "version": 3
   },
   "file_extension": ".py",
   "mimetype": "text/x-python",
   "name": "python",
   "nbconvert_exporter": "python",
   "pygments_lexer": "ipython3",
   "version": "3.9.13"
  }
 },
 "nbformat": 4,
 "nbformat_minor": 5
}
