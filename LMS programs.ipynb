{
 "cells": [
  {
   "cell_type": "code",
   "execution_count": 1,
   "id": "b8271643",
   "metadata": {},
   "outputs": [
    {
     "name": "stdout",
     "output_type": "stream",
     "text": [
      "\n",
      "Normalized DataFrame:\n",
      "    age  height  weight\n",
      "0  0.00    0.00    0.00\n",
      "1  0.25    0.25    0.25\n",
      "2  0.50    0.50    0.50\n",
      "3  0.75    0.75    0.75\n",
      "4  1.00    1.00    1.00\n"
     ]
    }
   ],
   "source": [
    "import pandas as pd\n",
    "from sklearn.preprocessing import MinMaxScaler\n",
    "\n",
    "data = {\n",
    "    \"age\": [25, 30, 35, 40, 45],\n",
    "    \"height\": [150, 160, 170, 180, 190],\n",
    "    \"weight\": [50, 60, 70, 80, 90],\n",
    "}\n",
    "\n",
    "df = pd.DataFrame(data)\n",
    "\n",
    "scaler = MinMaxScaler()\n",
    "\n",
    "normalized_data = scaler.fit_transform(df)\n",
    "normalized_df = pd.DataFrame(normalized_data, columns=df.columns)\n",
    "\n",
    "print(\"\\nNormalized DataFrame:\")\n",
    "print(normalized_df)\n"
   ]
  },
  {
   "cell_type": "code",
   "execution_count": 2,
   "id": "e3b58e52",
   "metadata": {},
   "outputs": [
    {
     "name": "stdout",
     "output_type": "stream",
     "text": [
      "Original DataFrame:\n",
      "   customer.id  gender       city\n",
      "0            1    male  Hyderabad\n",
      "1            2  female       Pune\n",
      "2            3    male  Bangalore\n",
      "3            4  female    Chennai\n",
      "\n",
      "One Hot Encoded DataFrame with sklearn:\n",
      "   customer.id  gender       city  gender_female  gender_male  city_Bangalore  \\\n",
      "0            1    male  Hyderabad            0.0          1.0             0.0   \n",
      "1            2  female       Pune            1.0          0.0             0.0   \n",
      "2            3    male  Bangalore            0.0          1.0             1.0   \n",
      "3            4  female    Chennai            1.0          0.0             0.0   \n",
      "\n",
      "   city_Chennai  city_Hyderabad  city_Pune  \n",
      "0           0.0             1.0        0.0  \n",
      "1           0.0             0.0        1.0  \n",
      "2           0.0             0.0        0.0  \n",
      "3           1.0             0.0        0.0  \n"
     ]
    }
   ],
   "source": [
    "import pandas as pd\n",
    "from sklearn.preprocessing import OneHotEncoder\n",
    "\n",
    "data = {\n",
    "    'customer.id': [1, 2, 3, 4],\n",
    "    'gender': [\"male\", \"female\", \"male\", \"female\"],\n",
    "    'city': [\"Hyderabad\", \"Pune\", \"Bangalore\", \"Chennai\"]\n",
    "}\n",
    "\n",
    "df = pd.DataFrame(data)\n",
    "print('Original DataFrame:')\n",
    "print(df)\n",
    "\n",
    "# Initialize OneHotEncoder\n",
    "one_hot_encoder = OneHotEncoder(sparse=False)\n",
    "\n",
    "# Specify the columns to encode\n",
    "columns_to_encode = ['gender', 'city']\n",
    "\n",
    "# Apply OneHotEncoder to the specified columns\n",
    "encoded_data = one_hot_encoder.fit_transform(df[columns_to_encode])\n",
    "\n",
    "# Get the column names for the encoded data\n",
    "encoded_columns = one_hot_encoder.get_feature_names_out(columns_to_encode)\n",
    "\n",
    "# Convert the encoded data into a DataFrame\n",
    "encoded_df = pd.DataFrame(encoded_data, columns=encoded_columns)\n",
    "\n",
    "# Concatenate the encoded columns with the original DataFrame (if needed)\n",
    "final_df = pd.concat([df, encoded_df], axis=1)\n",
    "\n",
    "# Print the final DataFrame with One-Hot Encoding\n",
    "print('\\nOne Hot Encoded DataFrame with sklearn:')\n",
    "print(final_df)\n"
   ]
  },
  {
   "cell_type": "code",
   "execution_count": null,
   "id": "5f64bc2d",
   "metadata": {},
   "outputs": [],
   "source": []
  },
  {
   "cell_type": "code",
   "execution_count": null,
   "id": "223336d6",
   "metadata": {},
   "outputs": [],
   "source": []
  }
 ],
 "metadata": {
  "kernelspec": {
   "display_name": "Python 3 (ipykernel)",
   "language": "python",
   "name": "python3"
  },
  "language_info": {
   "codemirror_mode": {
    "name": "ipython",
    "version": 3
   },
   "file_extension": ".py",
   "mimetype": "text/x-python",
   "name": "python",
   "nbconvert_exporter": "python",
   "pygments_lexer": "ipython3",
   "version": "3.9.13"
  }
 },
 "nbformat": 4,
 "nbformat_minor": 5
}
